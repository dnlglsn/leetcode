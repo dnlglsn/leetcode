{
 "cells": [
  {
   "cell_type": "code",
   "execution_count": 2,
   "metadata": {
    "collapsed": true
   },
   "outputs": [],
   "source": [
    "import numpy as np"
   ]
  },
  {
   "cell_type": "code",
   "execution_count": 138,
   "metadata": {
    "collapsed": false
   },
   "outputs": [
    {
     "name": "stdout",
     "output_type": "stream",
     "text": [
      "[0, 0, 1, 3, 3, 4, 4, 4, 4, 6, 6, 7, 7, 7, 8, 8, 8, 9, 9, 9]\n"
     ]
    }
   ],
   "source": [
    "nums = sorted(map(int, np.random.randint(0, 10, 20)))\n",
    "print nums"
   ]
  },
  {
   "cell_type": "code",
   "execution_count": 139,
   "metadata": {
    "collapsed": false
   },
   "outputs": [
    {
     "name": "stdout",
     "output_type": "stream",
     "text": [
      "8\n"
     ]
    }
   ],
   "source": [
    "def remove_duplicates(nums):\n",
    "    if len(nums) == 0:\n",
    "        return 0\n",
    "    currentLength = len(nums)\n",
    "    slow = 0\n",
    "    while slow < currentLength:\n",
    "        while slow+1 < currentLength and nums[slow+1] == nums[slow]:\n",
    "            del nums[slow+1]\n",
    "            currentLength -= 1\n",
    "        slow += 1\n",
    "    return currentLength\n",
    "\n",
    "print remove_duplicates(nums)"
   ]
  },
  {
   "cell_type": "code",
   "execution_count": 160,
   "metadata": {
    "collapsed": false
   },
   "outputs": [
    {
     "name": "stdout",
     "output_type": "stream",
     "text": [
      "[1, 2, 3, 3, 3, 3, 3, 4, 4, 5, 6, 7, 7, 7, 7, 8, 8, 9, 9, 9]\n",
      "0 1 1 2\n",
      "1 2 2 3\n",
      "2 3 3 3\n",
      "2 4 3 3\n",
      "2 5 3 3\n",
      "2 6 3 3\n",
      "2 7 3 4\n",
      "3 8 4 4\n",
      "3 9 4 5\n",
      "4 10 5 6\n",
      "5 11 6 7\n",
      "6 12 7 7\n",
      "6 13 7 7\n",
      "6 14 7 7\n",
      "6 15 7 8\n",
      "7 16 8 8\n",
      "7 17 8 9\n",
      "8 18 9 9\n",
      "8 19 9 9\n",
      "9 [1, 2, 3, 4, 5, 6, 7, 8, 9]\n"
     ]
    }
   ],
   "source": [
    "def removeDuplicates(A):\n",
    "    if not A:\n",
    "        return 0\n",
    "\n",
    "    slow = 0\n",
    "\n",
    "    for fast in range(1, len(A)):\n",
    "        print slow, fast, A[slow], A[fast]\n",
    "        if A[fast] != A[slow]:\n",
    "            slow += 1\n",
    "            A[slow] = A[fast]\n",
    "\n",
    "    return slow + 1\n",
    "\n",
    "nums = sorted(map(int, np.random.randint(0, 10, 20)))\n",
    "print nums\n",
    "slow = removeDuplicates(nums)\n",
    "print slow, nums[:slow]"
   ]
  },
  {
   "cell_type": "code",
   "execution_count": null,
   "metadata": {
    "collapsed": true
   },
   "outputs": [],
   "source": []
  }
 ],
 "metadata": {
  "kernelspec": {
   "display_name": "Python 2",
   "language": "python",
   "name": "python2"
  },
  "language_info": {
   "codemirror_mode": {
    "name": "ipython",
    "version": 2
   },
   "file_extension": ".py",
   "mimetype": "text/x-python",
   "name": "python",
   "nbconvert_exporter": "python",
   "pygments_lexer": "ipython2",
   "version": "2.7.13"
  }
 },
 "nbformat": 4,
 "nbformat_minor": 2
}
