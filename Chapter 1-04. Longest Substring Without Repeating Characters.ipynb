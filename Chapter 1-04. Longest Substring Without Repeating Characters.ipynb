{
 "cells": [
  {
   "cell_type": "markdown",
   "metadata": {},
   "source": [
    "https://leetcode.com/problems/two-sum-ii-input-array-is-sorted/#/description"
   ]
  },
  {
   "cell_type": "code",
   "execution_count": 17,
   "metadata": {
    "collapsed": true
   },
   "outputs": [],
   "source": [
    "tests = ['dvdf',\n",
    "         'abcabcbb',\n",
    "         'bbbbb',\n",
    "         'pwwkew',\n",
    "         'au']"
   ]
  },
  {
   "cell_type": "code",
   "execution_count": 20,
   "metadata": {
    "collapsed": false
   },
   "outputs": [
    {
     "name": "stdout",
     "output_type": "stream",
     "text": [
      "[3, 3, 1, 3, 2]\n"
     ]
    }
   ],
   "source": [
    "class Solution(object):\n",
    "    def lengthOfLongestSubstring(self, s):\n",
    "        \"\"\"\n",
    "        :type s: str\n",
    "        :rtype: int\n",
    "        \"\"\"\n",
    "        # Stupid cases\n",
    "        if len(s) == 0: return 0\n",
    "        if len(s) == 1: return 1\n",
    "\n",
    "        # Make the used objects\n",
    "        substring = ''\n",
    "        longest = 0\n",
    "\n",
    "        # Set our \"pointers\"\n",
    "        for c in s:\n",
    "            while c in substring:\n",
    "                longest = max(len(substring), longest)\n",
    "                substring = substring[1:]\n",
    "            substring += c\n",
    "        return max(len(substring), longest)\n",
    "\n",
    "solver = Solution()\n",
    "print map(solver.lengthOfLongestSubstring, tests)"
   ]
  }
 ],
 "metadata": {
  "kernelspec": {
   "display_name": "Python 2",
   "language": "python",
   "name": "python2"
  },
  "language_info": {
   "codemirror_mode": {
    "name": "ipython",
    "version": 2
   },
   "file_extension": ".py",
   "mimetype": "text/x-python",
   "name": "python",
   "nbconvert_exporter": "python",
   "pygments_lexer": "ipython2",
   "version": "2.7.13"
  }
 },
 "nbformat": 4,
 "nbformat_minor": 2
}
