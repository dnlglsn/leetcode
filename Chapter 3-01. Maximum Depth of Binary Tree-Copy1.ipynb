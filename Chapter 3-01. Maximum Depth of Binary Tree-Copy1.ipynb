{
 "cells": [
  {
   "cell_type": "markdown",
   "metadata": {},
   "source": [
    "https://leetcode.com/problems/two-sum-ii-input-array-is-sorted/#/description"
   ]
  },
  {
   "cell_type": "code",
   "execution_count": 20,
   "metadata": {
    "collapsed": true
   },
   "outputs": [],
   "source": [
    "# Definition for a binary tree node.\n",
    "class TreeNode(object):\n",
    "    def __init__(self, x, left=None, right=None):\n",
    "        self.val = x\n",
    "        self.left = left\n",
    "        self.right = right\n",
    "Node = TreeNode"
   ]
  },
  {
   "cell_type": "code",
   "execution_count": 21,
   "metadata": {
    "collapsed": false
   },
   "outputs": [],
   "source": [
    "t = Node(4, Node(3, Node(2, Node(1))), Node(6, Node(5), Node(7, right=Node(10, Node(9, Node(8)), Node(11)))))"
   ]
  },
  {
   "cell_type": "code",
   "execution_count": 22,
   "metadata": {
    "collapsed": false
   },
   "outputs": [],
   "source": [
    "tests = [t]"
   ]
  },
  {
   "cell_type": "code",
   "execution_count": 24,
   "metadata": {
    "collapsed": false
   },
   "outputs": [
    {
     "name": "stdout",
     "output_type": "stream",
     "text": [
      "[6]\n"
     ]
    }
   ],
   "source": [
    "class Solution(object):\n",
    "    \n",
    "    def maxDepth(self, root):\n",
    "        import collections\n",
    "        \"\"\"\n",
    "        :type root: TreeNode\n",
    "        :rtype: int\n",
    "        \"\"\"\n",
    "\n",
    "        # Make the work queue\n",
    "        d = collections.deque()\n",
    "\n",
    "        # Simple case\n",
    "        if root is None:\n",
    "            return 0\n",
    "\n",
    "        # Add the root\n",
    "        d.append((root, 1))\n",
    "        maxDepth = currentDepth = 1\n",
    "\n",
    "        # Traverse\n",
    "        while len(d):\n",
    "\n",
    "            # Grab the next node and the node's depth\n",
    "            node, currentDepth = d.pop()\n",
    "            maxDepth = max(currentDepth, maxDepth)\n",
    "\n",
    "            # Check and add right node\n",
    "            if node.right:\n",
    "                d.append((node.right, currentDepth+1))\n",
    "\n",
    "            # Check and add left node\n",
    "            if node.left:\n",
    "                d.append((node.left, currentDepth+1))\n",
    "\n",
    "        return maxDepth\n",
    "\n",
    "solver = Solution()\n",
    "import itertools\n",
    "results =  map(solver.maxDepth, tests)\n",
    "print results"
   ]
  },
  {
   "cell_type": "code",
   "execution_count": null,
   "metadata": {
    "collapsed": true
   },
   "outputs": [],
   "source": []
  },
  {
   "cell_type": "code",
   "execution_count": null,
   "metadata": {
    "collapsed": true
   },
   "outputs": [],
   "source": []
  },
  {
   "cell_type": "code",
   "execution_count": null,
   "metadata": {
    "collapsed": true
   },
   "outputs": [],
   "source": []
  },
  {
   "cell_type": "code",
   "execution_count": null,
   "metadata": {
    "collapsed": true
   },
   "outputs": [],
   "source": []
  },
  {
   "cell_type": "code",
   "execution_count": null,
   "metadata": {
    "collapsed": true
   },
   "outputs": [],
   "source": [
    "def validate(root):\n",
    "    \n",
    "    # Make the work queue\n",
    "    d = collections.deque()\n",
    "\n",
    "    # Simple case\n",
    "    if root is None:\n",
    "        return True\n",
    "\n",
    "    # Add the root\n",
    "    d.append(root)\n",
    "\n",
    "    # Traverse\n",
    "    while len(d):\n",
    "\n",
    "        # Grab the next node\n",
    "        node = d.pop()\n",
    "\n",
    "        # Print the value\n",
    "        print node.value\n",
    "\n",
    "        # Check and add right node\n",
    "        if node.right:\n",
    "            if node.value >= node.right.value:\n",
    "                print 'Parent node (%i) >= right node (%i)' % (node.value,\n",
    "                                                               node.right.value)\n",
    "                return False\n",
    "            d.append(node.right)\n",
    "\n",
    "        # Check and add left node\n",
    "        if node.left:\n",
    "            if node.left.value >= node.value:\n",
    "                print 'Left node (%i) >= parent node (%i)' % (node.left.value,\n",
    "                                                              node.value)\n",
    "                return False\n",
    "            d.append(node.left)\n",
    "\n",
    "    return True"
   ]
  }
 ],
 "metadata": {
  "kernelspec": {
   "display_name": "Python 2",
   "language": "python",
   "name": "python2"
  },
  "language_info": {
   "codemirror_mode": {
    "name": "ipython",
    "version": 2
   },
   "file_extension": ".py",
   "mimetype": "text/x-python",
   "name": "python",
   "nbconvert_exporter": "python",
   "pygments_lexer": "ipython2",
   "version": "2.7.13"
  }
 },
 "nbformat": 4,
 "nbformat_minor": 2
}
