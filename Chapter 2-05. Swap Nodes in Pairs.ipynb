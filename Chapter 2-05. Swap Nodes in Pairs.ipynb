{
 "cells": [
  {
   "cell_type": "markdown",
   "metadata": {},
   "source": [
    "https://leetcode.com/problems/two-sum-ii-input-array-is-sorted/#/description"
   ]
  },
  {
   "cell_type": "code",
   "execution_count": 6,
   "metadata": {
    "collapsed": true
   },
   "outputs": [],
   "source": [
    "# Definition for singly-linked list.\n",
    "class ListNode(object):\n",
    "    def __init__(self, x):\n",
    "        self.val = x\n",
    "        self.next = None"
   ]
  },
  {
   "cell_type": "code",
   "execution_count": 7,
   "metadata": {
    "collapsed": true
   },
   "outputs": [],
   "source": [
    "z = ListNode(4)\n",
    "z.next = ListNode(5)\n",
    "z.next.next = ListNode(6)\n",
    "z.next.next.next = ListNode(7)"
   ]
  },
  {
   "cell_type": "code",
   "execution_count": 8,
   "metadata": {
    "collapsed": false
   },
   "outputs": [
    {
     "name": "stdout",
     "output_type": "stream",
     "text": [
      "4\n",
      "5\n",
      "6\n",
      "7\n"
     ]
    }
   ],
   "source": [
    "head = z\n",
    "print head.val\n",
    "while head.next:\n",
    "    head = head.next\n",
    "    print head.val"
   ]
  },
  {
   "cell_type": "code",
   "execution_count": 11,
   "metadata": {
    "collapsed": false
   },
   "outputs": [],
   "source": [
    "tests = [z\n",
    "         ]"
   ]
  },
  {
   "cell_type": "code",
   "execution_count": 13,
   "metadata": {
    "collapsed": false
   },
   "outputs": [
    {
     "name": "stdout",
     "output_type": "stream",
     "text": [
      "[<__main__.ListNode object at 0x7f41906cf410>]\n"
     ]
    }
   ],
   "source": [
    "class Solution(object):\n",
    "    \n",
    "    def swapPairs(self, head):\n",
    "        \"\"\"\n",
    "        :type head: ListNode\n",
    "        :rtype: ListNode\n",
    "        \"\"\"\n",
    "        \n",
    "        # current -> left -> right -> right.next to current -> right -> left -> right.next\n",
    "        \n",
    "        first = ListNode(0)\n",
    "        current, current.next = first, head\n",
    "        while current.next and current.next.next:\n",
    "            left = current.next\n",
    "            right = left.next\n",
    "            current.next, right.next, left.next = right, left, right.next\n",
    "            current = left\n",
    "        return first.next\n",
    "\n",
    "solver = Solution()\n",
    "import itertools\n",
    "results =  map(solver.swapPairs, tests)\n",
    "print results"
   ]
  },
  {
   "cell_type": "code",
   "execution_count": 14,
   "metadata": {
    "collapsed": false
   },
   "outputs": [
    {
     "name": "stdout",
     "output_type": "stream",
     "text": [
      "5\n",
      "4\n",
      "7\n",
      "6\n"
     ]
    }
   ],
   "source": [
    "for result in results:\n",
    "    head = result\n",
    "    print head.val\n",
    "    while head.next:\n",
    "        head = head.next\n",
    "        print head.val"
   ]
  },
  {
   "cell_type": "code",
   "execution_count": null,
   "metadata": {
    "collapsed": true
   },
   "outputs": [],
   "source": []
  }
 ],
 "metadata": {
  "kernelspec": {
   "display_name": "Python 2",
   "language": "python",
   "name": "python2"
  },
  "language_info": {
   "codemirror_mode": {
    "name": "ipython",
    "version": 2
   },
   "file_extension": ".py",
   "mimetype": "text/x-python",
   "name": "python",
   "nbconvert_exporter": "python",
   "pygments_lexer": "ipython2",
   "version": "2.7.13"
  }
 },
 "nbformat": 4,
 "nbformat_minor": 2
}
