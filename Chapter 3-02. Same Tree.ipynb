{
 "cells": [
  {
   "cell_type": "markdown",
   "metadata": {},
   "source": [
    "https://leetcode.com/problems/two-sum-ii-input-array-is-sorted/#/description"
   ]
  },
  {
   "cell_type": "code",
   "execution_count": 20,
   "metadata": {
    "collapsed": true
   },
   "outputs": [],
   "source": [
    "# Definition for a binary tree node.\n",
    "class TreeNode(object):\n",
    "    def __init__(self, x, left=None, right=None):\n",
    "        self.val = x\n",
    "        self.left = left\n",
    "        self.right = right\n",
    "Node = TreeNode"
   ]
  },
  {
   "cell_type": "code",
   "execution_count": 21,
   "metadata": {
    "collapsed": false
   },
   "outputs": [],
   "source": [
    "t = Node(4, Node(3, Node(2, Node(1))), Node(6, Node(5), Node(7, right=Node(10, Node(9, Node(8)), Node(11)))))"
   ]
  },
  {
   "cell_type": "code",
   "execution_count": 22,
   "metadata": {
    "collapsed": false
   },
   "outputs": [],
   "source": [
    "tests = [t]"
   ]
  },
  {
   "cell_type": "code",
   "execution_count": 24,
   "metadata": {
    "collapsed": false
   },
   "outputs": [
    {
     "name": "stdout",
     "output_type": "stream",
     "text": [
      "[6]\n"
     ]
    }
   ],
   "source": [
    "# Definition for a binary tree node.\n",
    "# class TreeNode(object):\n",
    "#     def __init__(self, x):\n",
    "#         self.val = x\n",
    "#         self.left = None\n",
    "#         self.right = None\n",
    "\n",
    "class Solution(object):\n",
    "    def to_list(self, n):\n",
    "        # Make the work queue\n",
    "        d = collections.deque()\n",
    "        \n",
    "        values = []\n",
    "    \n",
    "        # Simple case\n",
    "        if root is None:\n",
    "            return values\n",
    "    \n",
    "        # Add the root\n",
    "        d.append(root)\n",
    "    \n",
    "        # Traverse\n",
    "        while len(d):\n",
    "    \n",
    "            # Grab the next node\n",
    "            node = d.pop()\n",
    "            values.append(node.val)\n",
    "    \n",
    "            # Check and add right node\n",
    "            if node.right:\n",
    "                d.append(node.right)\n",
    "    \n",
    "            # Check and add left node\n",
    "            if node.left:\n",
    "                d.append(node.left)\n",
    "\n",
    "        return values\n",
    "    \n",
    "    def isSameTree(self, p, q):\n",
    "        \"\"\"\n",
    "        :type p: TreeNode\n",
    "        :type q: TreeNode\n",
    "        :rtype: bool\n",
    "        \"\"\"\n",
    "\n",
    "        return self.to_list(p) == self.to_list(q)\n",
    "\n",
    "        if p is None and q is None:\n",
    "            return True\n",
    "        if p is None and q is not None:\n",
    "            return False\n",
    "        if p is not None and q is None:\n",
    "            return False\n",
    "\n",
    "        # Make the work queue\n",
    "        import collections\n",
    "        pd = collections.deque()\n",
    "        qd = collections.deque()\n",
    "\n",
    "        # Add the roots\n",
    "        pd.append(p)\n",
    "        qd.append(q)\n",
    "\n",
    "        # Traverse\n",
    "        while len(pd) and len(pd) == len(qd):\n",
    "\n",
    "            # Grab the next nodes\n",
    "            pn = pd.pop()\n",
    "            qn = qd.pop()\n",
    "\n",
    "            if pn.val != qn.val or pn.right != qn.right or pn.left != qn.left:\n",
    "                return False\n",
    "\n",
    "            # Check and add right nodes\n",
    "            if pn.right:\n",
    "                pd.append(pn.right)\n",
    "            if qn.right:\n",
    "                qd.append(qn.right)\n",
    "\n",
    "            # Check and add left node\n",
    "            if pn.left:\n",
    "                pd.append(pn.left)\n",
    "            if qn.left:\n",
    "                qd.append(qn.left)\n",
    "\n",
    "        return True\n",
    "\n",
    "solver = Solution()\n",
    "import itertools\n",
    "results =  map(solver.maxDepth, tests)\n",
    "print results"
   ]
  },
  {
   "cell_type": "code",
   "execution_count": null,
   "metadata": {
    "collapsed": true
   },
   "outputs": [],
   "source": []
  },
  {
   "cell_type": "code",
   "execution_count": null,
   "metadata": {
    "collapsed": true
   },
   "outputs": [],
   "source": []
  },
  {
   "cell_type": "code",
   "execution_count": null,
   "metadata": {
    "collapsed": true
   },
   "outputs": [],
   "source": []
  },
  {
   "cell_type": "code",
   "execution_count": null,
   "metadata": {
    "collapsed": true
   },
   "outputs": [],
   "source": []
  },
  {
   "cell_type": "code",
   "execution_count": null,
   "metadata": {
    "collapsed": true
   },
   "outputs": [],
   "source": [
    "def validate(root):\n",
    "    \n",
    "    # Make the work queue\n",
    "    d = collections.deque()\n",
    "\n",
    "    # Simple case\n",
    "    if root is None:\n",
    "        return True\n",
    "\n",
    "    # Add the root\n",
    "    d.append(root)\n",
    "\n",
    "    # Traverse\n",
    "    while len(d):\n",
    "\n",
    "        # Grab the next node\n",
    "        node = d.pop()\n",
    "\n",
    "        # Print the value\n",
    "        print node.value\n",
    "\n",
    "        # Check and add right node\n",
    "        if node.right:\n",
    "            if node.value >= node.right.value:\n",
    "                print 'Parent node (%i) >= right node (%i)' % (node.value,\n",
    "                                                               node.right.value)\n",
    "                return False\n",
    "            d.append(node.right)\n",
    "\n",
    "        # Check and add left node\n",
    "        if node.left:\n",
    "            if node.left.value >= node.value:\n",
    "                print 'Left node (%i) >= parent node (%i)' % (node.left.value,\n",
    "                                                              node.value)\n",
    "                return False\n",
    "            d.append(node.left)\n",
    "\n",
    "    return True"
   ]
  }
 ],
 "metadata": {
  "kernelspec": {
   "display_name": "Python 2",
   "language": "python",
   "name": "python2"
  },
  "language_info": {
   "codemirror_mode": {
    "name": "ipython",
    "version": 2
   },
   "file_extension": ".py",
   "mimetype": "text/x-python",
   "name": "python",
   "nbconvert_exporter": "python",
   "pygments_lexer": "ipython2",
   "version": "2.7.13"
  }
 },
 "nbformat": 4,
 "nbformat_minor": 2
}
